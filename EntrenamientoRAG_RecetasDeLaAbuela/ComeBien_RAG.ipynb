{
 "cells": [
  {
   "cell_type": "code",
   "execution_count": 1,
   "id": "3464a23a-e99f-416d-ab0d-2e88592dd656",
   "metadata": {
    "tags": []
   },
   "outputs": [
    {
     "name": "stderr",
     "output_type": "stream",
     "text": [
      "Comienzo de script\n",
      "Loading pdf ./1080 Recetas de Cocina - Simone Ortega.pdf\n"
     ]
    },
    {
     "name": "stdout",
     "output_type": "stream",
     "text": [
      "Starting...\n"
     ]
    },
    {
     "name": "stderr",
     "output_type": "stream",
     "text": [
      "End of load\n"
     ]
    }
   ],
   "source": [
    "# import libraries\n",
    "import os\n",
    "from langchain_community.document_loaders import PyPDFLoader\n",
    "from langchain.text_splitter import RecursiveCharacterTextSplitter\n",
    "from langchain.embeddings.openai import OpenAIEmbeddings\n",
    "from langchain.vectorstores import Chroma\n",
    "from langchain.prompts import ChatPromptTemplate\n",
    "from langchain.chat_models import ChatOpenAI\n",
    "import logging\n",
    "from datetime import datetime\n",
    "\n",
    "print('Starting...')\n",
    "# Obtener la fecha y hora actual\n",
    "fecha_hora_actual = datetime.now()\n",
    "\n",
    "# Crear un manejador para la consola\n",
    "console_handler = logging.StreamHandler()\n",
    "console_handler.setLevel(logging.INFO)\n",
    "\n",
    "# Formatear la fecha y hora\n",
    "texto_fecha_hora = fecha_hora_actual.strftime(\"%Y%m%d_%H%M\")\n",
    "mylog = \"Comebien_RAG_\"+texto_fecha_hora+\".log\"\n",
    "\n",
    "# Crear un manejador para el archivo\n",
    "file_handler = logging.FileHandler(filename=mylog, encoding = \"UTF-8\")\n",
    "file_handler.setLevel(logging.INFO)\n",
    "\n",
    "# Definir el formato de los registros\n",
    "formatter = logging.Formatter('%(asctime)s - %(levelname)s - %(message)s')\n",
    "#console_handler.setFormatter(formatter)\n",
    "file_handler.setFormatter(formatter)\n",
    "\n",
    "# Crear un logger\n",
    "logger = logging.getLogger()\n",
    "logger.setLevel(logging.INFO)\n",
    "\n",
    "# Agregar los manejadores al logger\n",
    "logger.addHandler(console_handler)\n",
    "logger.addHandler(file_handler)\n",
    "logger.info('Comienzo de script')\n",
    "\n",
    "# ----- Data Indexing Process -----\n",
    "# load your pdf doc\n",
    "DOC_PATH = \"./1080 Recetas de Cocina - Simone Ortega.pdf\"\n",
    "CHROMA_PATH = \"RecetasDeLaAbuela\" \n",
    "logger.info('Loading pdf ' + str(DOC_PATH))\n",
    "loader = PyPDFLoader(DOC_PATH)\n",
    "pages = loader.load()\n",
    "logger.info('End of load')"
   ]
  },
  {
   "cell_type": "code",
   "execution_count": 2,
   "id": "60444f97-8fd1-4a0f-ab11-9c4b93f0e225",
   "metadata": {
    "tags": []
   },
   "outputs": [
    {
     "name": "stderr",
     "output_type": "stream",
     "text": [
      "Creating splitter... \n",
      "Splitting pdf... \n",
      "Loading embeddings model... \n",
      "Load pretrained SentenceTransformer: sentence-transformers/all-MiniLM-l6-v2\n"
     ]
    },
    {
     "data": {
      "application/vnd.jupyter.widget-view+json": {
       "model_id": "9dd5bcfa9eeb437588c769e46bbe95b0",
       "version_major": 2,
       "version_minor": 0
      },
      "text/plain": [
       "Batches:   0%|          | 0/1 [00:00<?, ?it/s]"
      ]
     },
     "metadata": {},
     "output_type": "display_data"
    },
    {
     "name": "stderr",
     "output_type": "stream",
     "text": [
      "--- Logging error ---\n",
      "Traceback (most recent call last):\n",
      "  File \"/home/user/miniconda/lib/python3.9/logging/__init__.py\", line 1083, in emit\n",
      "    msg = self.format(record)\n",
      "  File \"/home/user/miniconda/lib/python3.9/logging/__init__.py\", line 927, in format\n",
      "    return fmt.format(record)\n",
      "  File \"/home/user/miniconda/lib/python3.9/logging/__init__.py\", line 663, in format\n",
      "    record.message = record.getMessage()\n",
      "  File \"/home/user/miniconda/lib/python3.9/logging/__init__.py\", line 367, in getMessage\n",
      "    msg = msg % self.args\n",
      "TypeError: not all arguments converted during string formatting\n",
      "Call stack:\n",
      "  File \"/home/user/miniconda/lib/python3.9/runpy.py\", line 197, in _run_module_as_main\n",
      "    return _run_code(code, main_globals, None,\n",
      "  File \"/home/user/miniconda/lib/python3.9/runpy.py\", line 87, in _run_code\n",
      "    exec(code, run_globals)\n",
      "  File \"/home/user/miniconda/lib/python3.9/site-packages/ipykernel_launcher.py\", line 18, in <module>\n",
      "    app.launch_new_instance()\n",
      "  File \"/home/user/miniconda/lib/python3.9/site-packages/traitlets/config/application.py\", line 1075, in launch_instance\n",
      "    app.start()\n",
      "  File \"/home/user/miniconda/lib/python3.9/site-packages/ipykernel/kernelapp.py\", line 739, in start\n",
      "    self.io_loop.start()\n",
      "  File \"/home/user/miniconda/lib/python3.9/site-packages/tornado/platform/asyncio.py\", line 215, in start\n",
      "    self.asyncio_loop.run_forever()\n",
      "  File \"/home/user/miniconda/lib/python3.9/asyncio/base_events.py\", line 596, in run_forever\n",
      "    self._run_once()\n",
      "  File \"/home/user/miniconda/lib/python3.9/asyncio/base_events.py\", line 1890, in _run_once\n",
      "    handle._run()\n",
      "  File \"/home/user/miniconda/lib/python3.9/asyncio/events.py\", line 80, in _run\n",
      "    self._context.run(self._callback, *self._args)\n",
      "  File \"/home/user/miniconda/lib/python3.9/site-packages/ipykernel/kernelbase.py\", line 545, in dispatch_queue\n",
      "    await self.process_one()\n",
      "  File \"/home/user/miniconda/lib/python3.9/site-packages/ipykernel/kernelbase.py\", line 534, in process_one\n",
      "    await dispatch(*args)\n",
      "  File \"/home/user/miniconda/lib/python3.9/site-packages/ipykernel/kernelbase.py\", line 437, in dispatch_shell\n",
      "    await result\n",
      "  File \"/home/user/miniconda/lib/python3.9/site-packages/ipykernel/ipkernel.py\", line 362, in execute_request\n",
      "    await super().execute_request(stream, ident, parent)\n",
      "  File \"/home/user/miniconda/lib/python3.9/site-packages/ipykernel/kernelbase.py\", line 778, in execute_request\n",
      "    reply_content = await reply_content\n",
      "  File \"/home/user/miniconda/lib/python3.9/site-packages/ipykernel/ipkernel.py\", line 449, in do_execute\n",
      "    res = shell.run_cell(\n",
      "  File \"/home/user/miniconda/lib/python3.9/site-packages/ipykernel/zmqshell.py\", line 549, in run_cell\n",
      "    return super().run_cell(*args, **kwargs)\n",
      "  File \"/home/user/miniconda/lib/python3.9/site-packages/IPython/core/interactiveshell.py\", line 3048, in run_cell\n",
      "    result = self._run_cell(\n",
      "  File \"/home/user/miniconda/lib/python3.9/site-packages/IPython/core/interactiveshell.py\", line 3103, in _run_cell\n",
      "    result = runner(coro)\n",
      "  File \"/home/user/miniconda/lib/python3.9/site-packages/IPython/core/async_helpers.py\", line 129, in _pseudo_sync_runner\n",
      "    coro.send(None)\n",
      "  File \"/home/user/miniconda/lib/python3.9/site-packages/IPython/core/interactiveshell.py\", line 3308, in run_cell_async\n",
      "    has_raised = await self.run_ast_nodes(code_ast.body, cell_name,\n",
      "  File \"/home/user/miniconda/lib/python3.9/site-packages/IPython/core/interactiveshell.py\", line 3490, in run_ast_nodes\n",
      "    if await self.run_code(code, result, async_=asy):\n",
      "  File \"/home/user/miniconda/lib/python3.9/site-packages/IPython/core/interactiveshell.py\", line 3550, in run_code\n",
      "    exec(code_obj, self.user_global_ns, self.user_ns)\n",
      "  File \"/tmp/ipykernel_3176/3819677003.py\", line 20, in <module>\n",
      "    logger.info(\"Size of the embedding: \", str(sample_embedding.shape))\n",
      "Message: 'Size of the embedding: '\n",
      "Arguments: ('(384,)',)\n",
      "--- Logging error ---\n",
      "Traceback (most recent call last):\n",
      "  File \"/home/user/miniconda/lib/python3.9/logging/__init__.py\", line 1083, in emit\n",
      "    msg = self.format(record)\n",
      "  File \"/home/user/miniconda/lib/python3.9/logging/__init__.py\", line 927, in format\n",
      "    return fmt.format(record)\n",
      "  File \"/home/user/miniconda/lib/python3.9/logging/__init__.py\", line 663, in format\n",
      "    record.message = record.getMessage()\n",
      "  File \"/home/user/miniconda/lib/python3.9/logging/__init__.py\", line 367, in getMessage\n",
      "    msg = msg % self.args\n",
      "TypeError: not all arguments converted during string formatting\n",
      "Call stack:\n",
      "  File \"/home/user/miniconda/lib/python3.9/runpy.py\", line 197, in _run_module_as_main\n",
      "    return _run_code(code, main_globals, None,\n",
      "  File \"/home/user/miniconda/lib/python3.9/runpy.py\", line 87, in _run_code\n",
      "    exec(code, run_globals)\n",
      "  File \"/home/user/miniconda/lib/python3.9/site-packages/ipykernel_launcher.py\", line 18, in <module>\n",
      "    app.launch_new_instance()\n",
      "  File \"/home/user/miniconda/lib/python3.9/site-packages/traitlets/config/application.py\", line 1075, in launch_instance\n",
      "    app.start()\n",
      "  File \"/home/user/miniconda/lib/python3.9/site-packages/ipykernel/kernelapp.py\", line 739, in start\n",
      "    self.io_loop.start()\n",
      "  File \"/home/user/miniconda/lib/python3.9/site-packages/tornado/platform/asyncio.py\", line 215, in start\n",
      "    self.asyncio_loop.run_forever()\n",
      "  File \"/home/user/miniconda/lib/python3.9/asyncio/base_events.py\", line 596, in run_forever\n",
      "    self._run_once()\n",
      "  File \"/home/user/miniconda/lib/python3.9/asyncio/base_events.py\", line 1890, in _run_once\n",
      "    handle._run()\n",
      "  File \"/home/user/miniconda/lib/python3.9/asyncio/events.py\", line 80, in _run\n",
      "    self._context.run(self._callback, *self._args)\n",
      "  File \"/home/user/miniconda/lib/python3.9/site-packages/ipykernel/kernelbase.py\", line 545, in dispatch_queue\n",
      "    await self.process_one()\n",
      "  File \"/home/user/miniconda/lib/python3.9/site-packages/ipykernel/kernelbase.py\", line 534, in process_one\n",
      "    await dispatch(*args)\n",
      "  File \"/home/user/miniconda/lib/python3.9/site-packages/ipykernel/kernelbase.py\", line 437, in dispatch_shell\n",
      "    await result\n",
      "  File \"/home/user/miniconda/lib/python3.9/site-packages/ipykernel/ipkernel.py\", line 362, in execute_request\n",
      "    await super().execute_request(stream, ident, parent)\n",
      "  File \"/home/user/miniconda/lib/python3.9/site-packages/ipykernel/kernelbase.py\", line 778, in execute_request\n",
      "    reply_content = await reply_content\n",
      "  File \"/home/user/miniconda/lib/python3.9/site-packages/ipykernel/ipkernel.py\", line 449, in do_execute\n",
      "    res = shell.run_cell(\n",
      "  File \"/home/user/miniconda/lib/python3.9/site-packages/ipykernel/zmqshell.py\", line 549, in run_cell\n",
      "    return super().run_cell(*args, **kwargs)\n",
      "  File \"/home/user/miniconda/lib/python3.9/site-packages/IPython/core/interactiveshell.py\", line 3048, in run_cell\n",
      "    result = self._run_cell(\n",
      "  File \"/home/user/miniconda/lib/python3.9/site-packages/IPython/core/interactiveshell.py\", line 3103, in _run_cell\n",
      "    result = runner(coro)\n",
      "  File \"/home/user/miniconda/lib/python3.9/site-packages/IPython/core/async_helpers.py\", line 129, in _pseudo_sync_runner\n",
      "    coro.send(None)\n",
      "  File \"/home/user/miniconda/lib/python3.9/site-packages/IPython/core/interactiveshell.py\", line 3308, in run_cell_async\n",
      "    has_raised = await self.run_ast_nodes(code_ast.body, cell_name,\n",
      "  File \"/home/user/miniconda/lib/python3.9/site-packages/IPython/core/interactiveshell.py\", line 3490, in run_ast_nodes\n",
      "    if await self.run_code(code, result, async_=asy):\n",
      "  File \"/home/user/miniconda/lib/python3.9/site-packages/IPython/core/interactiveshell.py\", line 3550, in run_code\n",
      "    exec(code_obj, self.user_global_ns, self.user_ns)\n",
      "  File \"/tmp/ipykernel_3176/3819677003.py\", line 20, in <module>\n",
      "    logger.info(\"Size of the embedding: \", str(sample_embedding.shape))\n",
      "Message: 'Size of the embedding: '\n",
      "Arguments: ('(384,)',)\n",
      "Embedding chunks into chroma...\n",
      "Anonymized telemetry enabled. See                     https://docs.trychroma.com/telemetry for more information.\n"
     ]
    },
    {
     "data": {
      "application/vnd.jupyter.widget-view+json": {
       "model_id": "3ea1b7f1474646ca983e6893e99860fd",
       "version_major": 2,
       "version_minor": 0
      },
      "text/plain": [
       "Batches:   0%|          | 0/85 [00:00<?, ?it/s]"
      ]
     },
     "metadata": {},
     "output_type": "display_data"
    },
    {
     "name": "stderr",
     "output_type": "stream",
     "text": [
      "End of Chroma embedding\n"
     ]
    }
   ],
   "source": [
    "# split the doc into smaller chunks i.e. chunk_size=500\n",
    "logger.info('Creating splitter... ')\n",
    "text_splitter = RecursiveCharacterTextSplitter(chunk_size=1250, chunk_overlap=300)\n",
    "logger.info('Splitting pdf... ')\n",
    "chunks = text_splitter.split_documents(pages)\n",
    "\n",
    "# get Embedding model\n",
    "logger.info('Loading embeddings model... ')\n",
    "import numpy as np\n",
    "from langchain_community.embeddings import HuggingFaceBgeEmbeddings\n",
    "#model_name=\"BAAI/bge-small-en-v1.5\",  # alternatively use \"sentence-transformers/all-MiniLM-l6-v2\" for a light and faster experience.\n",
    "embeddings = HuggingFaceBgeEmbeddings(\n",
    "    model_name=\"sentence-transformers/all-MiniLM-l6-v2\",\n",
    "    model_kwargs={'device':'cuda'}, \n",
    "    encode_kwargs={'normalize_embeddings': True}\n",
    ")\n",
    "docs_after_split = chunks\n",
    "sample_embedding = np.array(embeddings.embed_query(docs_after_split[0].page_content))\n",
    "#print(\"Sample embedding of a document chunk: \", sample_embedding)\n",
    "logger.info(\"Size of the embedding: \", str(sample_embedding.shape))\n",
    "\n",
    "# embed the chunks as vectors and load them into the database\n",
    "logger.info('Embedding chunks into chroma...')\n",
    "db_chroma = Chroma.from_documents(chunks, embeddings, persist_directory=CHROMA_PATH)\n",
    "db_chroma.persist()\n",
    "logger.info('End of Chroma embedding')"
   ]
  },
  {
   "cell_type": "code",
   "execution_count": 3,
   "id": "aca25352-5beb-4beb-ae36-c2f986efc2c4",
   "metadata": {
    "tags": []
   },
   "outputs": [
    {
     "name": "stderr",
     "output_type": "stream",
     "text": [
      "Retrieving context from chroma: Cocido de garbanzos\n"
     ]
    },
    {
     "data": {
      "application/vnd.jupyter.widget-view+json": {
       "model_id": "4f6a2b867f4a4df0a6dd3ff833886b4b",
       "version_major": 2,
       "version_minor": 0
      },
      "text/plain": [
       "Batches:   0%|          | 0/1 [00:00<?, ?it/s]"
      ]
     },
     "metadata": {},
     "output_type": "display_data"
    },
    {
     "name": "stdout",
     "output_type": "stream",
     "text": [
      "Doc: page_content='Garbanzos\\n. Para que los garbanzos\\nsalgan tiernos hay que ponerlos a cocer' metadata={'page': 150, 'source': './1080 Recetas de Cocina - Simone Ortega.pdf'}\n",
      "Page: Garbanzos\n",
      ". Para que los garbanzos\n",
      "salgan tiernos hay que ponerlos a cocer\n",
      "Score: 0.6452703475952148\n",
      "Doc: page_content='en trozos y la morcilla en rodajas) y la\\nmitad de los garbanzos. Seguidamente se' metadata={'page': 543, 'source': './1080 Recetas de Cocina - Simone Ortega.pdf'}\n",
      "Page: en trozos y la morcilla en rodajas) y la\n",
      "mitad de los garbanzos. Seguidamente se\n",
      "Score: 0.6575905084609985\n"
     ]
    }
   ],
   "source": [
    "# ----- Retrieval and Generation Process -----\n",
    "# this is an example of a user question (query)\n",
    "#query = 'what are the top risks mentioned in the document?'\n",
    "#query = 'asado de cordero'\n",
    "#query = 'salmorejo'\n",
    "#query = 'Lentejas con chorizo'\n",
    "#query = 'Paella valenciana'\n",
    "query = 'Cocido de garbanzos'\n",
    "topK = 2\n",
    "\n",
    "# retrieve context - top 5 most relevant (closests) chunks to the query vector \n",
    "# (by default Langchain is using cosine distance metric)\n",
    "logger.info('Retrieving context from chroma: '+str(query))\n",
    "docs_chroma = db_chroma.similarity_search_with_score(query, k=topK)\n",
    "\n",
    "# generate an answer based on given user query and retrieved context information\n",
    "retriever1 = \"\\n\\n\".join([doc.page_content for doc, _score in docs_chroma])\n",
    "\n",
    "for doc, _score in docs_chroma:\n",
    "    print('Doc: '+str(doc))\n",
    "    print('Page: '+str(doc.page_content))\n",
    "    print('Score: '+str(_score))\n",
    "    "
   ]
  },
  {
   "cell_type": "code",
   "execution_count": 4,
   "id": "33fa0a2e-89ab-459d-aecf-8c21be434d01",
   "metadata": {},
   "outputs": [
    {
     "data": {
      "application/vnd.jupyter.widget-view+json": {
       "model_id": "1aea985b087a4570a3a16cb421bbbc20",
       "version_major": 2,
       "version_minor": 0
      },
      "text/plain": [
       "Batches:   0%|          | 0/85 [00:00<?, ?it/s]"
      ]
     },
     "metadata": {},
     "output_type": "display_data"
    },
    {
     "name": "stderr",
     "output_type": "stream",
     "text": [
      "Loading faiss with AVX512 support.\n",
      "Successfully loaded faiss with AVX512 support.\n"
     ]
    },
    {
     "data": {
      "application/vnd.jupyter.widget-view+json": {
       "model_id": "1b155a26eae642bfb257ab2decb5d182",
       "version_major": 2,
       "version_minor": 0
      },
      "text/plain": [
       "Batches:   0%|          | 0/1 [00:00<?, ?it/s]"
      ]
     },
     "metadata": {},
     "output_type": "display_data"
    },
    {
     "name": "stderr",
     "output_type": "stream",
     "text": [
      "There are 1 documents retrieved which are relevant to the query. Display the first one:\n",
      "Doc: también. Nota.-EI caldo de cocer los garbanzos es muy bueno y se puede utilizar para cocer arroz, hacer una sopa, etc. 191.—GARBANZOS REFRITOS (6 personas) ½ kg. de garbanzos, 100 gr. de manteca de cerdo, 1 cebolla mediana (100 gr.), 3 tomates medianos bien maduros, 1 cucharada (de las de café) de pimentón, ½ chorizo de cantimpalos, agua y sal. Se ponen los garbanzos en remojo la víspera (o unas 12 horas antes) en agua\n",
      "Score: 0.7616598\n",
      "Recovering as retriever...\n"
     ]
    }
   ],
   "source": [
    "from langchain_community.vectorstores import FAISS\n",
    "from langchain.chains import RetrievalQA\n",
    "from langchain.prompts import PromptTemplate\n",
    "vectorstore = FAISS.from_documents(docs_after_split, embeddings)\n",
    "#query = 'asado de cordero'\n",
    "topK = 1\n",
    "# Sample question, change to other questions you are interested in.\n",
    "relevant_documents = vectorstore.similarity_search_with_score(query, k=topK)\n",
    "\n",
    "logger.info('There are ' +str(len(relevant_documents)) + ' documents retrieved which are relevant to the query. Display the first one:')\n",
    "for doc, _score in relevant_documents:\n",
    "    texto = str(doc.page_content)\n",
    "    texto = texto.replace('\\n', ' ')\n",
    "    texto = texto.replace('\\r', ' ')\n",
    "    logger.info('Doc: '+str(texto))\n",
    "    logger.info('Score: '+str(_score))\n",
    "\n",
    "# Use similarity searching algorithm and return most relevant documents.\n",
    "logger.info('Recovering as retriever...')\n",
    "retriever2 = vectorstore.as_retriever(search_type=\"similarity\", search_kwargs={\"k\": topK})\n"
   ]
  },
  {
   "cell_type": "code",
   "execution_count": 6,
   "id": "93854db2-b02e-415f-b3a7-10e4a4d6c046",
   "metadata": {
    "tags": []
   },
   "outputs": [
    {
     "name": "stderr",
     "output_type": "stream",
     "text": [
      "Llamando al modelo mistralai/Mixtral-8x7B-Instruct-v0.1\n",
      "huggingface/tokenizers: The current process just got forked, after parallelism has already been used. Disabling parallelism to avoid deadlocks...\n",
      "To disable this warning, you can either:\n",
      "\t- Avoid using `tokenizers` before the fork if possible\n",
      "\t- Explicitly set the environment variable TOKENIZERS_PARALLELISM=(true | false)\n"
     ]
    },
    {
     "name": "stdout",
     "output_type": "stream",
     "text": [
      "Requirement already satisfied: torch in /home/user/miniconda/lib/python3.9/site-packages (2.2.2)\n",
      "Requirement already satisfied: sentencepiece in /home/user/miniconda/lib/python3.9/site-packages (0.2.0)\n",
      "Requirement already satisfied: nvidia-cuda-runtime-cu12==12.1.105 in /home/user/miniconda/lib/python3.9/site-packages (from torch) (12.1.105)\n",
      "Requirement already satisfied: nvidia-nccl-cu12==2.19.3 in /home/user/miniconda/lib/python3.9/site-packages (from torch) (2.19.3)\n",
      "Requirement already satisfied: nvidia-curand-cu12==10.3.2.106 in /home/user/miniconda/lib/python3.9/site-packages (from torch) (10.3.2.106)\n",
      "Requirement already satisfied: triton==2.2.0 in /home/user/miniconda/lib/python3.9/site-packages (from torch) (2.2.0)\n",
      "Requirement already satisfied: nvidia-cuda-nvrtc-cu12==12.1.105 in /home/user/miniconda/lib/python3.9/site-packages (from torch) (12.1.105)\n",
      "Requirement already satisfied: nvidia-cublas-cu12==12.1.3.1 in /home/user/miniconda/lib/python3.9/site-packages (from torch) (12.1.3.1)\n",
      "Requirement already satisfied: nvidia-nvtx-cu12==12.1.105 in /home/user/miniconda/lib/python3.9/site-packages (from torch) (12.1.105)\n",
      "Requirement already satisfied: typing-extensions>=4.8.0 in /home/user/miniconda/lib/python3.9/site-packages (from torch) (4.11.0)\n",
      "Requirement already satisfied: nvidia-cusolver-cu12==11.4.5.107 in /home/user/miniconda/lib/python3.9/site-packages (from torch) (11.4.5.107)\n",
      "Requirement already satisfied: nvidia-cufft-cu12==11.0.2.54 in /home/user/miniconda/lib/python3.9/site-packages (from torch) (11.0.2.54)\n",
      "Requirement already satisfied: jinja2 in /home/user/miniconda/lib/python3.9/site-packages (from torch) (3.1.3)\n",
      "Requirement already satisfied: networkx in /home/user/miniconda/lib/python3.9/site-packages (from torch) (3.2.1)\n",
      "Requirement already satisfied: nvidia-cuda-cupti-cu12==12.1.105 in /home/user/miniconda/lib/python3.9/site-packages (from torch) (12.1.105)\n",
      "Requirement already satisfied: sympy in /home/user/miniconda/lib/python3.9/site-packages (from torch) (1.12)\n",
      "Requirement already satisfied: filelock in /home/user/miniconda/lib/python3.9/site-packages (from torch) (3.13.3)\n",
      "Requirement already satisfied: fsspec in /home/user/miniconda/lib/python3.9/site-packages (from torch) (2024.2.0)\n",
      "Requirement already satisfied: nvidia-cusparse-cu12==12.1.0.106 in /home/user/miniconda/lib/python3.9/site-packages (from torch) (12.1.0.106)\n",
      "Requirement already satisfied: nvidia-cudnn-cu12==8.9.2.26 in /home/user/miniconda/lib/python3.9/site-packages (from torch) (8.9.2.26)\n",
      "Requirement already satisfied: nvidia-nvjitlink-cu12 in /home/user/miniconda/lib/python3.9/site-packages (from nvidia-cusolver-cu12==11.4.5.107->torch) (12.4.127)\n",
      "Requirement already satisfied: MarkupSafe>=2.0 in /home/user/miniconda/lib/python3.9/site-packages (from jinja2->torch) (2.1.5)\n",
      "Requirement already satisfied: mpmath>=0.19 in /home/user/miniconda/lib/python3.9/site-packages (from sympy->torch) (1.3.0)\n"
     ]
    },
    {
     "name": "stderr",
     "output_type": "stream",
     "text": [
      "huggingface/tokenizers: The current process just got forked, after parallelism has already been used. Disabling parallelism to avoid deadlocks...\n",
      "To disable this warning, you can either:\n",
      "\t- Avoid using `tokenizers` before the fork if possible\n",
      "\t- Explicitly set the environment variable TOKENIZERS_PARALLELISM=(true | false)\n"
     ]
    },
    {
     "name": "stdout",
     "output_type": "stream",
     "text": [
      "Collecting unsloth[colab-new]@ git+https://github.com/unslothai/unsloth.git\n",
      "  Cloning https://github.com/unslothai/unsloth.git to /tmp/pip-install-_u22i_ho/unsloth_98720b268bff4b3388c2f68b5bdf228c\n",
      "  Running command git clone -q https://github.com/unslothai/unsloth.git /tmp/pip-install-_u22i_ho/unsloth_98720b268bff4b3388c2f68b5bdf228c\n",
      "  Installing build dependencies ... \u001b[?25ldone\n",
      "\u001b[?25h  Getting requirements to build wheel ... \u001b[?25ldone\n",
      "\u001b[?25h  Installing backend dependencies ... \u001b[?25ldone\n",
      "\u001b[?25h    Preparing wheel metadata ... \u001b[?25ldone\n",
      "\u001b[?25hRequirement already satisfied: tqdm in /home/user/miniconda/lib/python3.9/site-packages (from unsloth[colab-new]@ git+https://github.com/unslothai/unsloth.git) (4.66.2)\n",
      "Requirement already satisfied: wheel>=0.42.0 in /home/user/miniconda/lib/python3.9/site-packages (from unsloth[colab-new]@ git+https://github.com/unslothai/unsloth.git) (0.43.0)\n",
      "Requirement already satisfied: tyro in /home/user/miniconda/lib/python3.9/site-packages (from unsloth[colab-new]@ git+https://github.com/unslothai/unsloth.git) (0.8.2)\n",
      "Requirement already satisfied: transformers>=4.38.2 in /home/user/miniconda/lib/python3.9/site-packages (from unsloth[colab-new]@ git+https://github.com/unslothai/unsloth.git) (4.39.3)\n",
      "Requirement already satisfied: numpy in /home/user/miniconda/lib/python3.9/site-packages (from unsloth[colab-new]@ git+https://github.com/unslothai/unsloth.git) (1.26.4)\n",
      "Requirement already satisfied: protobuf<4.0.0 in /home/user/miniconda/lib/python3.9/site-packages (from unsloth[colab-new]@ git+https://github.com/unslothai/unsloth.git) (3.20.3)\n",
      "Requirement already satisfied: datasets>=2.16.0 in /home/user/miniconda/lib/python3.9/site-packages (from unsloth[colab-new]@ git+https://github.com/unslothai/unsloth.git) (2.18.0)\n",
      "Requirement already satisfied: sentencepiece in /home/user/miniconda/lib/python3.9/site-packages (from unsloth[colab-new]@ git+https://github.com/unslothai/unsloth.git) (0.2.0)\n",
      "Requirement already satisfied: psutil in /home/user/miniconda/lib/python3.9/site-packages (from unsloth[colab-new]@ git+https://github.com/unslothai/unsloth.git) (5.9.8)\n",
      "Requirement already satisfied: requests>=2.19.0 in /home/user/miniconda/lib/python3.9/site-packages (from datasets>=2.16.0->unsloth[colab-new]@ git+https://github.com/unslothai/unsloth.git) (2.31.0)\n",
      "Requirement already satisfied: fsspec[http]<=2024.2.0,>=2023.1.0 in /home/user/miniconda/lib/python3.9/site-packages (from datasets>=2.16.0->unsloth[colab-new]@ git+https://github.com/unslothai/unsloth.git) (2024.2.0)\n",
      "Requirement already satisfied: pyyaml>=5.1 in /home/user/miniconda/lib/python3.9/site-packages (from datasets>=2.16.0->unsloth[colab-new]@ git+https://github.com/unslothai/unsloth.git) (6.0.1)\n",
      "Requirement already satisfied: pyarrow-hotfix in /home/user/miniconda/lib/python3.9/site-packages (from datasets>=2.16.0->unsloth[colab-new]@ git+https://github.com/unslothai/unsloth.git) (0.6)\n",
      "Requirement already satisfied: huggingface-hub>=0.19.4 in /home/user/miniconda/lib/python3.9/site-packages (from datasets>=2.16.0->unsloth[colab-new]@ git+https://github.com/unslothai/unsloth.git) (0.22.2)\n",
      "Requirement already satisfied: aiohttp in /home/user/miniconda/lib/python3.9/site-packages (from datasets>=2.16.0->unsloth[colab-new]@ git+https://github.com/unslothai/unsloth.git) (3.9.3)\n",
      "Requirement already satisfied: filelock in /home/user/miniconda/lib/python3.9/site-packages (from datasets>=2.16.0->unsloth[colab-new]@ git+https://github.com/unslothai/unsloth.git) (3.13.3)\n",
      "Requirement already satisfied: dill<0.3.9,>=0.3.0 in /home/user/miniconda/lib/python3.9/site-packages (from datasets>=2.16.0->unsloth[colab-new]@ git+https://github.com/unslothai/unsloth.git) (0.3.8)\n",
      "Requirement already satisfied: packaging in /home/user/miniconda/lib/python3.9/site-packages (from datasets>=2.16.0->unsloth[colab-new]@ git+https://github.com/unslothai/unsloth.git) (23.2)\n",
      "Requirement already satisfied: pyarrow>=12.0.0 in /home/user/miniconda/lib/python3.9/site-packages (from datasets>=2.16.0->unsloth[colab-new]@ git+https://github.com/unslothai/unsloth.git) (15.0.2)\n",
      "Requirement already satisfied: multiprocess in /home/user/miniconda/lib/python3.9/site-packages (from datasets>=2.16.0->unsloth[colab-new]@ git+https://github.com/unslothai/unsloth.git) (0.70.16)\n",
      "Requirement already satisfied: xxhash in /home/user/miniconda/lib/python3.9/site-packages (from datasets>=2.16.0->unsloth[colab-new]@ git+https://github.com/unslothai/unsloth.git) (3.4.1)\n",
      "Requirement already satisfied: pandas in /home/user/miniconda/lib/python3.9/site-packages (from datasets>=2.16.0->unsloth[colab-new]@ git+https://github.com/unslothai/unsloth.git) (2.2.1)\n",
      "Requirement already satisfied: attrs>=17.3.0 in /home/user/miniconda/lib/python3.9/site-packages (from aiohttp->datasets>=2.16.0->unsloth[colab-new]@ git+https://github.com/unslothai/unsloth.git) (23.2.0)\n",
      "Requirement already satisfied: yarl<2.0,>=1.0 in /home/user/miniconda/lib/python3.9/site-packages (from aiohttp->datasets>=2.16.0->unsloth[colab-new]@ git+https://github.com/unslothai/unsloth.git) (1.9.4)\n",
      "Requirement already satisfied: aiosignal>=1.1.2 in /home/user/miniconda/lib/python3.9/site-packages (from aiohttp->datasets>=2.16.0->unsloth[colab-new]@ git+https://github.com/unslothai/unsloth.git) (1.3.1)\n",
      "Requirement already satisfied: async-timeout<5.0,>=4.0 in /home/user/miniconda/lib/python3.9/site-packages (from aiohttp->datasets>=2.16.0->unsloth[colab-new]@ git+https://github.com/unslothai/unsloth.git) (4.0.3)\n",
      "Requirement already satisfied: frozenlist>=1.1.1 in /home/user/miniconda/lib/python3.9/site-packages (from aiohttp->datasets>=2.16.0->unsloth[colab-new]@ git+https://github.com/unslothai/unsloth.git) (1.4.1)\n",
      "Requirement already satisfied: multidict<7.0,>=4.5 in /home/user/miniconda/lib/python3.9/site-packages (from aiohttp->datasets>=2.16.0->unsloth[colab-new]@ git+https://github.com/unslothai/unsloth.git) (6.0.5)\n",
      "Requirement already satisfied: typing-extensions>=3.7.4.3 in /home/user/miniconda/lib/python3.9/site-packages (from huggingface-hub>=0.19.4->datasets>=2.16.0->unsloth[colab-new]@ git+https://github.com/unslothai/unsloth.git) (4.11.0)\n",
      "Requirement already satisfied: certifi>=2017.4.17 in /home/user/miniconda/lib/python3.9/site-packages (from requests>=2.19.0->datasets>=2.16.0->unsloth[colab-new]@ git+https://github.com/unslothai/unsloth.git) (2021.5.30)\n",
      "Requirement already satisfied: charset-normalizer<4,>=2 in /home/user/miniconda/lib/python3.9/site-packages (from requests>=2.19.0->datasets>=2.16.0->unsloth[colab-new]@ git+https://github.com/unslothai/unsloth.git) (3.3.2)\n",
      "Requirement already satisfied: idna<4,>=2.5 in /home/user/miniconda/lib/python3.9/site-packages (from requests>=2.19.0->datasets>=2.16.0->unsloth[colab-new]@ git+https://github.com/unslothai/unsloth.git) (2.10)\n",
      "Requirement already satisfied: urllib3<3,>=1.21.1 in /home/user/miniconda/lib/python3.9/site-packages (from requests>=2.19.0->datasets>=2.16.0->unsloth[colab-new]@ git+https://github.com/unslothai/unsloth.git) (1.26.6)\n",
      "Requirement already satisfied: tokenizers<0.19,>=0.14 in /home/user/miniconda/lib/python3.9/site-packages (from transformers>=4.38.2->unsloth[colab-new]@ git+https://github.com/unslothai/unsloth.git) (0.15.2)\n",
      "Requirement already satisfied: regex!=2019.12.17 in /home/user/miniconda/lib/python3.9/site-packages (from transformers>=4.38.2->unsloth[colab-new]@ git+https://github.com/unslothai/unsloth.git) (2023.12.25)\n",
      "Requirement already satisfied: safetensors>=0.4.1 in /home/user/miniconda/lib/python3.9/site-packages (from transformers>=4.38.2->unsloth[colab-new]@ git+https://github.com/unslothai/unsloth.git) (0.4.2)\n",
      "Requirement already satisfied: python-dateutil>=2.8.2 in /home/user/miniconda/lib/python3.9/site-packages (from pandas->datasets>=2.16.0->unsloth[colab-new]@ git+https://github.com/unslothai/unsloth.git) (2.9.0.post0)\n",
      "Requirement already satisfied: tzdata>=2022.7 in /home/user/miniconda/lib/python3.9/site-packages (from pandas->datasets>=2.16.0->unsloth[colab-new]@ git+https://github.com/unslothai/unsloth.git) (2024.1)\n",
      "Requirement already satisfied: pytz>=2020.1 in /home/user/miniconda/lib/python3.9/site-packages (from pandas->datasets>=2.16.0->unsloth[colab-new]@ git+https://github.com/unslothai/unsloth.git) (2024.1)\n",
      "Requirement already satisfied: six>=1.5 in /home/user/miniconda/lib/python3.9/site-packages (from python-dateutil>=2.8.2->pandas->datasets>=2.16.0->unsloth[colab-new]@ git+https://github.com/unslothai/unsloth.git) (1.16.0)\n",
      "Requirement already satisfied: rich>=11.1.0 in /home/user/miniconda/lib/python3.9/site-packages (from tyro->unsloth[colab-new]@ git+https://github.com/unslothai/unsloth.git) (13.7.1)\n",
      "Requirement already satisfied: docstring-parser>=0.14.1 in /home/user/miniconda/lib/python3.9/site-packages (from tyro->unsloth[colab-new]@ git+https://github.com/unslothai/unsloth.git) (0.16)\n",
      "Requirement already satisfied: shtab>=1.5.6 in /home/user/miniconda/lib/python3.9/site-packages (from tyro->unsloth[colab-new]@ git+https://github.com/unslothai/unsloth.git) (1.7.1)\n",
      "Requirement already satisfied: eval-type-backport>=0.1.3 in /home/user/miniconda/lib/python3.9/site-packages (from tyro->unsloth[colab-new]@ git+https://github.com/unslothai/unsloth.git) (0.1.3)\n",
      "Requirement already satisfied: pygments<3.0.0,>=2.13.0 in /home/user/miniconda/lib/python3.9/site-packages (from rich>=11.1.0->tyro->unsloth[colab-new]@ git+https://github.com/unslothai/unsloth.git) (2.17.2)\n",
      "Requirement already satisfied: markdown-it-py>=2.2.0 in /home/user/miniconda/lib/python3.9/site-packages (from rich>=11.1.0->tyro->unsloth[colab-new]@ git+https://github.com/unslothai/unsloth.git) (3.0.0)\n",
      "Requirement already satisfied: mdurl~=0.1 in /home/user/miniconda/lib/python3.9/site-packages (from markdown-it-py>=2.2.0->rich>=11.1.0->tyro->unsloth[colab-new]@ git+https://github.com/unslothai/unsloth.git) (0.1.2)\n",
      "Installing dependencies older GPUs...\n"
     ]
    },
    {
     "name": "stderr",
     "output_type": "stream",
     "text": [
      "huggingface/tokenizers: The current process just got forked, after parallelism has already been used. Disabling parallelism to avoid deadlocks...\n",
      "To disable this warning, you can either:\n",
      "\t- Avoid using `tokenizers` before the fork if possible\n",
      "\t- Explicitly set the environment variable TOKENIZERS_PARALLELISM=(true | false)\n"
     ]
    },
    {
     "name": "stdout",
     "output_type": "stream",
     "text": [
      "Requirement already satisfied: xformers in /home/user/miniconda/lib/python3.9/site-packages (0.0.25.post1)\n",
      "Requirement already satisfied: trl in /home/user/miniconda/lib/python3.9/site-packages (0.8.1)\n",
      "Requirement already satisfied: peft in /home/user/miniconda/lib/python3.9/site-packages (0.10.0)\n",
      "Requirement already satisfied: accelerate in /home/user/miniconda/lib/python3.9/site-packages (0.29.1)\n",
      "Requirement already satisfied: bitsandbytes in /home/user/miniconda/lib/python3.9/site-packages (0.43.0)\n",
      "==((====))==  Unsloth: Fast Gemma patching release 2024.4\n",
      "   \\\\   /|    GPU: Tesla T4. Max memory: 14.581 GB. Platform = Linux.\n",
      "O^O/ \\_/ \\    Pytorch: 2.2.2+cu121. CUDA = 7.5. CUDA Toolkit = 12.1.\n",
      "\\        /    Bfloat16 = FALSE. Xformers = 0.0.25.post1. FA = False.\n",
      " \"-____-\"     Free Apache license: http://github.com/unslothai/unsloth\n"
     ]
    },
    {
     "name": "stderr",
     "output_type": "stream",
     "text": [
      "PyTorch version 2.2.2 available.\n",
      "Unsloth 2024.4 patched 18 layers with 18 QKV layers, 18 O layers and 18 MLP layers.\n",
      "End of script\n"
     ]
    }
   ],
   "source": [
    "#llm_model = 'xai-org/grok-1'\n",
    "#llm_model = 'unsloth/mistral-7b-instruct-v0.2-bnb-4bit'\n",
    "llm_model = \"mistralai/Mistral-7B-v0.1\"\n",
    "llm_model = 'google/gemma-7b'\n",
    "llm_model = 'TinyLlama/TinyLlama-1.1B-Chat-v1.0'\n",
    "llm_model = 'mistralai/Mixtral-8x7B-Instruct-v0.1'\n",
    "llm_model = 'google/gemma-2b'\n",
    "llm_model = 'mistralai/Mixtral-8x7B-Instruct-v0.1'\n",
    "uns_model = 'unsloth/gemma-2b-bnb-4bit'\n",
    "sft_model = 'somosnlp/RecetasDeLaAbuela5k_gemma-2b-bnb-4bit'\n",
    "\n",
    "hf_token = 'xxx_key'\n",
    "logger.info('Llamando al modelo '+str(llm_model))\n",
    "query = 'asado de cordero'  # Sample question, change to other questions you are interested in.\n",
    "max_seq_length = 500\n",
    "\n",
    "hf_hub_enable = False\n",
    "if hf_hub_enable:\n",
    "    #from langchain_community.llms import HuggingFaceHub\n",
    "    from langchain_community.llms import HuggingFaceEndpoint\n",
    "    #hf = HuggingFaceHub(repo_id=llm_model, huggingfacehub_api_token=hf_token , model_kwargs={\"temperature\":0.1, \"max_length\":500})\n",
    "    #hf = HuggingFaceHub(repo_id=llm_model, huggingfacehub_api_token=hf_token , task=\"text-generation\", model_kwargs={\"temperature\":0.1, \"max_new_tokens\":250, \"repetition_penalty\": 1.3, })\n",
    "    # Basic Example (no streaming)        \n",
    "    hf = HuggingFaceEndpoint(repo_id=llm_model,\n",
    "    max_new_tokens=max_seq_length, top_k=10, top_p=0.95, typical_p=0.95, temperature=0.1, repetition_penalty=1.2, huggingfacehub_api_token=hf_token)\n",
    "    prompt_template = \"\"\"Responde según el contexto a la pregunta final de forma concisa. No digas lo que no esta. No cites recetas del contexto. Cocina castellana. Responde la pregunta con: 1) Nombre, 2) Ingredientes, 3) Receta paso a paso. Contexto: {context} Pregunta: {question} Respuesta: \"\"\"\n",
    "    prompt = PromptTemplate(template=prompt_template, input_variables=[\"context\", \"question\"])    \n",
    "else:\n",
    "    !pip install torch sentencepiece\n",
    "    import torch\n",
    "    major_version, minor_version = torch.cuda.get_device_capability()\n",
    "    # Must install separately since Colab has torch 2.2.1, which breaks packages\n",
    "    !pip install \"unsloth[colab-new] @ git+https://github.com/unslothai/unsloth.git\"\n",
    "    if major_version >= 8:\n",
    "        # Use this for new GPUs like Ampere, Hopper GPUs (RTX 30xx, RTX 40xx, A100, H100, L40)\n",
    "        !pip install --no-deps packaging ninja einops flash-attn xformers trl peft accelerate bitsandbytes\n",
    "    else:\n",
    "        # Use this for older GPUs (V100, Tesla T4, RTX 20xx)\n",
    "        print('Installing dependencies older GPUs...')\n",
    "        !pip install --no-deps xformers trl peft accelerate bitsandbytes\n",
    "    pass\n",
    "\n",
    "    if False:\n",
    "        from unsloth import FastLanguageModel   \n",
    "        from langchain.chains import LLMChain\n",
    "        !pip install langchain --upgrade\n",
    "        model, tokenizer = FastLanguageModel.from_pretrained(model_name = llm_model, max_seq_length = max_seq_length, dtype=None, load_in_4bit = True,)\n",
    "        prompt_template = \"\"\"Responde según el contexto a la pregunta final de forma concisa. No digas lo que no esta. No cites recetas del contexto. Cocina castellana. Responde la pregunta con: 1) Nombre, 2) Ingredientes, 3) Receta paso a paso. Contexto: {context} Pregunta: {question} Respuesta: \"\"\"\n",
    "        prompt = PromptTemplate(template=prompt_template, input_variables=[\"context\", \"question\"])\n",
    "        hf = LLMChain(prompt=prompt, llm=model)\n",
    "    else:\n",
    "        gemma_enable = True\n",
    "        if gemma_enable:\n",
    "            from unsloth import FastLanguageModel\n",
    "            model, tokenizer = FastLanguageModel.from_pretrained(model_name = sft_model, max_seq_length = max_seq_length,dtype=None, load_in_4bit = True,)\n",
    "        else:\n",
    "            from unsloth import FastLlamaModel, FastMistralModel\n",
    "            from peft import PeftModel\n",
    "            base_model, tokenizer = FastMistralModel.from_pretrained(model_name = uns_model, max_seq_length = max_seq_length,dtype = None,load_in_4bit = True,)\n",
    "            logger.info('Modelo base cargado ' +str(uns_model))\n",
    "            ft_model = PeftModel.from_pretrained(base_model, sft_model, torch_dtype=torch.float16,)\n",
    "            logger.info(type(ft_model))\n",
    "            logger.info('Mezclando modelos...')\n",
    "            model = ft_model.merge_and_unload()\n",
    "        model.save_pretrained('./model')\n",
    "        tokenizer.save_pretrained('./model')\n",
    "\n",
    "if hf_hub_enable:\n",
    "    \n",
    "    hf.invoke(query)\n",
    "    logger.info('Preguntando al modelo...'+str(llm_model))\n",
    "    retrievalQA = RetrievalQA.from_chain_type(\n",
    "        llm=hf,\n",
    "        chain_type=\"stuff\",\n",
    "        retriever=retriever2,\n",
    "        return_source_documents=True,\n",
    "        chain_type_kwargs={\"prompt\": prompt}\n",
    "    )\n",
    "\n",
    "    # Call the QA chain with our query.\n",
    "    logger.info('Recuperando respuesta de cadena QA...'+str(llm_model))\n",
    "    result = retrievalQA.invoke({\"query\": query})\n",
    "    logger.info(result['result'])\n",
    "\n",
    "    if False:\n",
    "        relevant_docs = result['source_documents']\n",
    "        logger.info(f'There are {len(relevant_docs)} documents retrieved which are relevant to the query.')\n",
    "\n",
    "        for i, doc in enumerate(relevant_docs):\n",
    "            logger.info(f\"Relevant Document #{i+1}:\\nSource file: {doc.metadata['source']}, Page: {doc.metadata['page']}\\nContent: {doc.page_content}\")\n",
    "            logger.info(f'There are {len(relevant_docs)} documents retrieved which are relevant to the query.')\n",
    "\n",
    "logger.info('End of script')\n"
   ]
  },
  {
   "cell_type": "code",
   "execution_count": 7,
   "id": "af0f5fac-5d22-4080-8031-875c60946a6b",
   "metadata": {},
   "outputs": [],
   "source": [
    "from transformers import  StoppingCriteria, StoppingCriteriaList, GenerationConfig\n",
    "\n",
    "EOS_TOKEN = tokenizer.eos_token # Must add EOS_TOKEN\n",
    "class ListOfTokensStoppingCriteria(StoppingCriteria):\n",
    "    \"\"\"\n",
    "    Clase para definir un criterio de parada basado en una lista de tokens específicos.\n",
    "    \"\"\"\n",
    "    def __init__(self, tokenizer, stop_tokens):\n",
    "        self.tokenizer = tokenizer\n",
    "        # Codifica cada token de parada y guarda sus IDs en una lista\n",
    "        self.stop_token_ids_list = [tokenizer.encode(stop_token, add_special_tokens=False) for stop_token in stop_tokens]\n",
    "\n",
    "    def __call__(self, input_ids, scores, **kwargs):\n",
    "        # Verifica si los últimos tokens generados coinciden con alguno de los conjuntos de tokens de parada\n",
    "        for stop_token_ids in self.stop_token_ids_list:\n",
    "            len_stop_tokens = len(stop_token_ids)\n",
    "            if len(input_ids[0]) >= len_stop_tokens:\n",
    "                if input_ids[0, -len_stop_tokens:].tolist() == stop_token_ids:\n",
    "                    return True\n",
    "        return False\n",
    "\n",
    "# Uso del criterio de parada personalizado\n",
    "stop_tokens = [\"<end_of_turn>\"]  # Lista de tokens de parada\n",
    "\n",
    "# Inicializa tu criterio de parada con el tokenizer y la lista de tokens de parada\n",
    "stopping_criteria = ListOfTokensStoppingCriteria(tokenizer, stop_tokens)\n",
    "\n",
    "# Añade tu criterio de parada a una StoppingCriteriaList\n",
    "stopping_criteria_list = StoppingCriteriaList([stopping_criteria])\n",
    "\n",
    "def generate_text(prompt, context, model, max_length=max_seq_length):\n",
    "  prompt=prompt.replace(\"\\n\", \"\").replace(\"¿\",\"\").replace(\"?\",\"\")\n",
    "  enable_gemma = True\n",
    "  if enable_gemma:\n",
    "    input_text = f'''<bos><start_of_turn>system\\n{context}<end_of_turn><start_of_turn>user\\n{prompt}<end_of_turn><start_of_turn>model\\n'''\n",
    "    logger.info(input_text)\n",
    "  else:\n",
    "    intro = 'Below is an instruction that describes a task, paired with an input that provides further context. Write a response that appropriately completes the request'\n",
    "    input_text = f'''{intro}\\n\\n### Instruction:\\n\\n{context}\\n\\n### Input:\\n{prompt}\\n\\n### Response: '''\n",
    "  inputs = tokenizer.encode(input_text, return_tensors=\"pt\", add_special_tokens=False).to(\"cuda:0\")\n",
    "  max_new_tokens=max_length\n",
    "  generation_config = GenerationConfig(max_new_tokens=max_new_tokens, temperature=0.32, repetition_penalty=1.3, do_sample=True,)\n",
    "  if enable_gemma:\n",
    "    outputs = model.generate(generation_config=generation_config, input_ids=inputs, stopping_criteria=stopping_criteria_list,)\n",
    "  else:\n",
    "    outputs = model.generate(generation_config=generation_config, input_ids=inputs)\n",
    "  return tokenizer.decode(outputs[0], skip_special_tokens=False) #True\n",
    "\n",
    "def mostrar_respuesta(pregunta, contexto, logger, model):\n",
    "    try:\n",
    "        res= generate_text(pregunta, contexto, model, 700)\n",
    "    except Exception as e:\n",
    "        res = e    \n",
    "    logger.info(str(res))\n",
    "    return res\n"
   ]
  },
  {
   "cell_type": "code",
   "execution_count": 12,
   "id": "b65dd18b-41dc-4239-8805-bc35193c613f",
   "metadata": {},
   "outputs": [
    {
     "data": {
      "application/vnd.jupyter.widget-view+json": {
       "model_id": "ec86a2f53ea349528d2beb42b83deb07",
       "version_major": 2,
       "version_minor": 0
      },
      "text/plain": [
       "Batches:   0%|          | 0/1 [00:00<?, ?it/s]"
      ]
     },
     "metadata": {},
     "output_type": "display_data"
    },
    {
     "name": "stderr",
     "output_type": "stream",
     "text": [
      "Contexto Eres un agente experto en nutrición y cocina. Gelatina de naranja Fruta Jueves Tortilla de patatas Guisantes sencillos Rabillo de cadera guisado con zanahorias y cebollitas Salchichas con puré de patatas Fruta Queso de Burgos Viernes Alioli: patatas, zanahorias, alcachofas y bacalao cocido Zanahorias en salsa Huevos en Pregunta: Dime los ingredientes y pasos de la receta Tortilla de patatas española\n",
      "<bos><start_of_turn>system\n",
      "Eres un agente experto en nutrición y cocina. Gelatina de naranja Fruta Jueves Tortilla de patatas Guisantes sencillos Rabillo de cadera guisado con zanahorias y cebollitas Salchichas con puré de patatas Fruta Queso de Burgos Viernes Alioli: patatas, zanahorias, alcachofas y bacalao cocido Zanahorias en salsa Huevos en<end_of_turn><start_of_turn>user\n",
      "Dime los ingredientes y pasos de la receta Tortilla de patatas española<end_of_turn><start_of_turn>model\n",
      "\n",
      "<bos><start_of_turn>system\n",
      "Eres un agente experto en nutrición y cocina. Gelatina de naranja Fruta Jueves Tortilla de patatas Guisantes sencillos Rabillo de cadera guisado con zanahorias y cebollitas Salchichas con puré de patatas Fruta Queso de Burgos Viernes Alioli: patatas, zanahorias, alcachofas y bacalao cocido Zanahorias en salsa Huevos en<end_of_turn><start_of_turn>user\n",
      "Dime los ingredientes y pasos de la receta Tortilla de patatas española<end_of_turn><start_of_turn>model\n",
      "Ingredientes: 1 unidad de Huevo duro grande ½ kilogramo de Patatas medianas o grandes (al gusto) ¼ Kilogramos de Cebolla blanca mediana 4 unidades de Tomates maduros pequeños 250 gramos de Purés variados para el puerro fresco que sea más líquido pero no muy así como si fuera agua por ejemplo 1 pizca de Sal gruesa aceite de oliva virgen extra 1 cucharada sopera de Harina de trigo 1 cucharadita de Azúcar blanco molido 1 chorro de Vino tinto seco del vino que se va a hacer alioli 3 cucharadas soperas de Aceite de girasol 1 rama de Perejil picado finamente 1 vaso pequeño de Vinagre balsámico 1 taza pequeña de Leche entera sin nata ni azúcar. Pasos: 1 Para empezar a preparar esta tortilla fácil primero debes pelar las papas lavándolas bien bajo el grifo hasta dejarlas completamente secas luego escurre todas ellas pela también una cebolla corta todos estos vegetales en trozos aproximadamente iguales excepto quizás unas cuantas papas pequeñas y hazles unos cortes profundos sobre ellos todo lo demás será cortado igual entonces calienta abundante cantidad de aceite en una sartén amplia donde puedas ponerla encima cuando esté caliente ya puedes cocinar tus verduras tal cual tú quieras hacerlo aunque yo prefiero cortarlas antes de meterlas en la olla porque es mucho mejor me parece. Truco: Puedes usar cualquier tipo de pan rallado harina de maíz harina integral... 2 Cuando estén casi hechas tu verdura añade sal gíralala hacia abajo y deja conservar durante cinco minutos esto hará que absorban toda posible humedad dejando solo su propio jugo dentro de ella así podrás sacar fácilmente cada pieza después. Luego retira las piezas restantes e incorpora otra porción nueva de patata y cebolla mezcla ambos tipos juntos y vuelve repetir este proceso tantas veces como desees pues siempre puedes añadir más cantidades nuevas de alimento. Así mismo recuerda que estas preparaciones deben ser enteras y sin trocitos demasiado gruesos. 3 Mientras tanto prepara nuestro alioli añadiendo tres cucharaditas de leche entero junto con dos teaspoons de vinagre balsámico cuatro tazas de caldo casero o de cocción anterior de tomate u otro preparado de purés talleando previamente el perejil por medio diente de ajo machacado y media pastilla de nuez moscada fresca ¡y listo! Si quieres conocer cómo elaborar ese delicioso alioli paso a paso aquí tienes la receta completa. 4 Una vez tengas lista nuestra preparación básica lleva ahora nuestras masas de patata sazonadas a la par con nuestros tomates cortados en cuadros similares y colocamos ambas capas uno debajo del otro formando varias layers de láminas de patata y tomatitos intercalados espolvoreamos algunas especias variadas y terminamos poniendo nuevamente capa tras capa hasta terminar con el resto de material vegetal restante. Mezclamos cuidadosamente todo y pasamos directamente a colocarlo en la misma superficie de trabajo limpia para proceder a formar tortillas españolas típicas. 5 Ahora toca armar correctamente la masa colocando sucesivamente tapa arriba tapa abajo tapa entre otros términos conocido como \"tapado\" y tapado. Lo ideal sería tener algo parecido a una bola compacta de patata y tomate espesa pero manejable puesto que debe podernos manipular perfectamente mientras vamos haciendo tortillitas. Así mismo debemos saber mantenerle forma manteniendo constantemente presión sobre él mediante dedos manos etc. En caso contrario podemos acabar con una torta blanda y cruda debido a que simplemente nos falta presionarla adecuadamente. 6 Con ayuda de palillos hacemos agujeros en la parte superior de\n"
     ]
    },
    {
     "data": {
      "application/vnd.jupyter.widget-view+json": {
       "model_id": "ab7f6d71126644e2ba8f2e2f7ed493ad",
       "version_major": 2,
       "version_minor": 0
      },
      "text/plain": [
       "Batches:   0%|          | 0/1 [00:00<?, ?it/s]"
      ]
     },
     "metadata": {},
     "output_type": "display_data"
    },
    {
     "name": "stderr",
     "output_type": "stream",
     "text": [
      "Contexto Eres un agente experto en nutrición y cocina. Repollo con patatas y mayonesa Coles de Bruselas con bechamel Redondo guisado Fiambres variados Macedonia de frutas Compota de manzanas Miércoles Arroz con tomate, salchichas, pimientos y guisantes Acelgas con tomate Resto de redondo con bechamel y alcaparras Filetes de castañola al horno Natillas Fruta Jueves Pregunta: Dime los ingredientes y pasos de la receta Ceviche\n",
      "<bos><start_of_turn>system\n",
      "Eres un agente experto en nutrición y cocina. Repollo con patatas y mayonesa Coles de Bruselas con bechamel Redondo guisado Fiambres variados Macedonia de frutas Compota de manzanas Miércoles Arroz con tomate, salchichas, pimientos y guisantes Acelgas con tomate Resto de redondo con bechamel y alcaparras Filetes de castañola al horno Natillas Fruta Jueves<end_of_turn><start_of_turn>user\n",
      "Dime los ingredientes y pasos de la receta Ceviche<end_of_turn><start_of_turn>model\n",
      "\n",
      "<bos><start_of_turn>system\n",
      "Eres un agente experto en nutrición y cocina. Repollo con patatas y mayonesa Coles de Bruselas con bechamel Redondo guisado Fiambres variados Macedonia de frutas Compota de manzanas Miércoles Arroz con tomate, salchichas, pimientos y guisantes Acelgas con tomate Resto de redondo con bechamel y alcaparras Filetes de castañola al horno Natillas Fruta Jueves<end_of_turn><start_of_turn>user\n",
      "Dime los ingredientes y pasos de la receta Ceviche<end_of_turn><start_of_turn>model\n",
      "Ingredientes: 1 unidad de Limón (zumo) ½ taza de Cebolla blanca picada ¼ vaso pequeño de Tomate frito 2 unidades de Patata medianas peladas 30 mililitros de Mayonesa o salsa cesar Queso para cubrir el ceviche. Pasos: 6 horas antes del día previsto de consumo deshuesar las cáscaras de las cebollas picarla finamente como se ve en la foto. Si no tienes cebolla fresca puedes usar cebolleta que es lo mismo pero más grande por eso te aconsejamos cortarle una parte a ella también. 45 minutos después cortar cada patata en rodajas finas tal y como ves en esta fotografía. Hazla tú misma si prefieres hacerlo sin ayuda usando dos cuchillas diferentes. 30 minutos después hervir hasta dorarse todas las papas durante unos cinco minutos aproximadamente ¡y listo! Ahora mezcla todo esto muy bien junto con la mitad de la lata de leche casera que habremos preparado previamente en remojo. Puedes hacer tu propia crema lechera casero siguiendo este paso a pasadoo. 1 minuto antes de servir colocar sobre las hojas verdes fijándolas ligeramente con palillos pequeños. Encima coloca ahora unas cuantas rodajas de queso blanco picado por ejemplo así tendremos nuestro famoso ceviche peruano hecho desde casa. Y ya podemos degustarlo... ¿Qué opináis?¿Qué otros platos saludables les gustan a vosotros?¡Escriban sus comentarios! Truco: Este plato puede ser consumido tanto frío como caliente aunque siempre será mejor cuando esté fresco porque entonces su sabor queda mucho superior.Y si quieres conocer otras recetas similares aquí tenemos algunas ideas interesantes:Cebrioche peruanoCon pollo cocinadoEnfriamiento de pescado y verdurasPimiento morrón relleno y asado<unused88><eos>\n"
     ]
    },
    {
     "data": {
      "application/vnd.jupyter.widget-view+json": {
       "model_id": "a44e36bfde69493a9e3af29094ca8bda",
       "version_major": 2,
       "version_minor": 0
      },
      "text/plain": [
       "Batches:   0%|          | 0/1 [00:00<?, ?it/s]"
      ]
     },
     "metadata": {},
     "output_type": "display_data"
    },
    {
     "name": "stderr",
     "output_type": "stream",
     "text": [
      "Contexto Eres un agente experto en nutrición y cocina. Este plato sirve como entremés en verano. 6 tomates grandes, unas hojas de lechuga, 300 gr. de ensaladilla rusa con mayonesa. Con la punta de un cuchillo se les quita a los tomates el redondel alrededor del rabo para quitarles toda esa parte dura. Con una cuchara de las de café se les quita la simiente y algo de carne, con el fin de que queden un poco huecos. Se espolvorea el interior con un poco de sal y se colocan boca abajo durante una hora. Mientras tanto se prepara la ensaladilla rusa o se compra ésta hecha. También se venden latas de Pregunta: Dime los ingredientes y pasos de la receta Enchiladas\n",
      "<bos><start_of_turn>system\n",
      "Eres un agente experto en nutrición y cocina. Este plato sirve como entremés en verano. 6 tomates grandes, unas hojas de lechuga, 300 gr. de ensaladilla rusa con mayonesa. Con la punta de un cuchillo se les quita a los tomates el redondel alrededor del rabo para quitarles toda esa parte dura. Con una cuchara de las de café se les quita la simiente y algo de carne, con el fin de que queden un poco huecos. Se espolvorea el interior con un poco de sal y se colocan boca abajo durante una hora. Mientras tanto se prepara la ensaladilla rusa o se compra ésta hecha. También se venden latas de<end_of_turn><start_of_turn>user\n",
      "Dime los ingredientes y pasos de la receta Enchiladas<end_of_turn><start_of_turn>model\n",
      "\n",
      "<bos><start_of_turn>system\n",
      "Eres un agente experto en nutrición y cocina. Este plato sirve como entremés en verano. 6 tomates grandes, unas hojas de lechuga, 300 gr. de ensaladilla rusa con mayonesa. Con la punta de un cuchillo se les quita a los tomates el redondel alrededor del rabo para quitarles toda esa parte dura. Con una cuchara de las de café se les quita la simiente y algo de carne, con el fin de que queden un poco huecos. Se espolvorea el interior con un poco de sal y se colocan boca abajo durante una hora. Mientras tanto se prepara la ensaladilla rusa o se compra ésta hecha. También se venden latas de<end_of_turn><start_of_turn>user\n",
      "Dime los ingredientes y pasos de la receta Enchiladas<end_of_turn><start_of_turn>model\n",
      "Ingredientes: 1 kilogramo de Carne molida (carne picada) ½ unidad de Cebolla blanca ¼ taza de Aceite vegetal ¾ litro de Agua 2 tazas de Maíz cocido 1 pizca de Sal 1 cucharadita de Orégano seco 4 unidades de Puerros frescos pequeños sin piel ni semillas 5 cucharadas soperas de Mayonesa 8 rodajas de Pan tostado 1 paquete de Salsa picante mexicana 1 manojo de Cilantro fresco picado 1 chorro de Vinagre blanco 1 cucharada postre de Ají morrón dulce 1 diente de Ajo cortado fino 1 rama de Hierbabuena fresca 1 copa de Tequila mexicano 1 vaso pequeño de Caldo de pollo caliente 1 hoja grande de Papel aluminio doblada por dos lados 1 bote de Tomates rojos picados 1 lata pequeña de Crema agria Queso crema Mexicana rallado 1 puñado de Cebollino rojo picado Finas hierbas al gusto. Pasos: 1 Para empezar a preparar estas deliciosas tortillas mexicanas primero debes lavar muy bien todos estos vegetales dejando sólo sus cáscaras si son duras. Luego corta todo lo anterior en trozos medianos más o menos iguales. La cebolla es mejor cortada fina mientras que los otros alimentos deben ser enteros pero no tan gruesos ya que así obtendrás unos tacos mucho mas ligeros y jugosos. 7 Dejar reposar todas partes de este guiso de verduras hasta que estén completamente blanditas esto permitirá obtener mejores resultados cuando sea momento de cocinarlas. Una vez esté listo cada uno de ellos coloca sobre su base correspondiente dentro de tu recipiente donde tengas preparado el papel aluminio cubriendo perfectamente todo. 2 Ahora toca armar tus tortilla mexicanos rellenando las bases anteriores con alguno de los siguientes elementos: salsa roja casera pan asado queso crema ajo chile Tabasco cebollín tomate crema Agridulce Mexicano. Si quieres hacer tú mismo esta deliciosa salsita puedes seguir mi paso a paso aquí Muy fácil Te recomiendo usar tres tipos diferentes de álcares ¡Te encantará! 3 Cubre cuidadosamente todo con el relleno deseado luego cierra nuevamente colocando encima otra capa adicional de papel aluminio tapando totalmente el cilindro de cocción. Deja reposo durante media hora aproximadamente tal cual está escrito en la etiqueta de la marca comercial utilizada. 4 Cuando haya pasado ese tiempo retira ambos extremos del cilindro haciendo agujeros hacia arriba e inferiores para permitirle airearse. Entonces destapágalo con cuidado teniendo cuenta también que te quede abierto suficiente. 5 Coloca entonces en medio un trozo de lámina de plástico transparente y colócalo debajo para poder cerrarlo firmemente después. Lo ideal sería utilizar cuatro láminas individuales aunque yo solo utilicé una porque tenía pocos cilindros disponibles. 6 Después enciende fuego bajo-medio y deja conservar durante quince minutos removiendo constantemente desde el centro hacia afuera procurando evitar quemarte debido a la presión ejercida por el contenido dentro del cilindro. Truco: Recuerda mantener siempre la temperatura baja pues los taquitos pueden romperse fácilmente. 7 Retira rápidamente los bordes superiores del cilindro utilizando peines finas retirando además cualquier exceso de líquido que pudiera estar conteniendo. Luego utiliza otro parta cortarlos en cuadrados similares a los típicos tacoitos. 8 Sirve inmediatamente acompañándolas con alguna guarnición ligera como arroz hervido o ensalada verde. Las enchiladas verdes son ideales para servir junto con algunas patatas fritas. Y recuerda disfrutarlas calientes ¡A comer!! Cuéntanos qué\n"
     ]
    },
    {
     "data": {
      "application/vnd.jupyter.widget-view+json": {
       "model_id": "27989367d10b48e78bfbfe5de71bee8c",
       "version_major": 2,
       "version_minor": 0
      },
      "text/plain": [
       "Batches:   0%|          | 0/1 [00:00<?, ?it/s]"
      ]
     },
     "metadata": {},
     "output_type": "display_data"
    },
    {
     "name": "stderr",
     "output_type": "stream",
     "text": [
      "Contexto Eres un agente experto en nutrición y cocina. de plata, se pasa un cuchillo de punta alrededor de la flanera y luego se vuelca. Se sirve adornado con nata, que lo cubra, o con natillas. Se procede según la receta 1.032. Se hacen con unas horas de anticipación para que estén frías, metiéndolas para esto en la nevera. Natillas: ½ litro de leche, 2 ó 3 yemas, 3 cucharadas soperas de azúcar. 1 cucharadita (de las de manilla) de maicena. Procédase como está explicado en la receta 1.032. 1.019.—POSTRE DE Pregunta: Dime los ingredientes y pasos de la receta Empanada de puerro y nata\n",
      "<bos><start_of_turn>system\n",
      "Eres un agente experto en nutrición y cocina. de plata, se pasa un cuchillo de punta alrededor de la flanera y luego se vuelca. Se sirve adornado con nata, que lo cubra, o con natillas. Se procede según la receta 1.032. Se hacen con unas horas de anticipación para que estén frías, metiéndolas para esto en la nevera. Natillas: ½ litro de leche, 2 ó 3 yemas, 3 cucharadas soperas de azúcar. 1 cucharadita (de las de manilla) de maicena. Procédase como está explicado en la receta 1.032. 1.019.—POSTRE DE<end_of_turn><start_of_turn>user\n",
      "Dime los ingredientes y pasos de la receta Empanada de puerro y nata<end_of_turn><start_of_turn>model\n",
      "\n",
      "<bos><start_of_turn>system\n",
      "Eres un agente experto en nutrición y cocina. de plata, se pasa un cuchillo de punta alrededor de la flanera y luego se vuelca. Se sirve adornado con nata, que lo cubra, o con natillas. Se procede según la receta 1.032. Se hacen con unas horas de anticipación para que estén frías, metiéndolas para esto en la nevera. Natillas: ½ litro de leche, 2 ó 3 yemas, 3 cucharadas soperas de azúcar. 1 cucharadita (de las de manilla) de maicena. Procédase como está explicado en la receta 1.032. 1.019.—POSTRE DE<end_of_turn><start_of_turn>user\n",
      "Dime los ingredientes y pasos de la receta Empanada de puerro y nata<end_of_turn><start_of_turn>model\n",
      "Ingredientes: 1 lámina grande de masa de empanadas casera 1 huevo cocido 1 pizca de sal 1 cucharada postre de aceite 1 cebolla picada pequeña 1 pieza medianita del puerro picado muy fino 1 chorro pequeño de vino blanco 1 taza de crema de coco sin semillas ni granos 1/4 vaso de agua caliente. Pasos: 1 Prepara una salsa cremosa hecha a fuego lento hasta obtener algo parecido al color de esta foto pero más espesa ¡y si quieres puedes hacerla tú mismo! 2 Enrolla el papel aluminio formando dos discos grandes coloca sobre uno de ellos la base de masa cortada por medio aproximadamente rectángular e introduce todo dentro de este envolto. Sazona bien toda la superficie colocando también algunas gotas de aceite encima así cuando cierremos no nos picante nada y tendremos nuestra empanada perfecta. 3 Introduce otra capa de masa en forma rectangular aplastada ligeramente espolvorea media hoja de laurel y cierra perfectamente haciendo unos cuantos cortes aquí y allá recuerda abrirlo solo justo antes de cocinarlo porque será mucho mejor entonces. 4 Cocina durante diez minutos en horno precalentado a temperatura alta mientras tanto prepara tu relleno. Para ello calienta en sartén poco aceite añade la carne finamente picadita junto con la cebolla previamente cocinada agrega el puerro y deja sofreír removiendo constantemente. Cuando esté listo retira del fuego vierte todos estos condimentos en la mezcla de crema de coco la cual debe estar fría ya que le dará consistencia firme aunque siempre podrás añadirle un poquito más de caldo caliente si te parece necesario. Si prefieres utilizar queso fresco u otro tipo de ingrediente adicional hazte presente ahora es momento de hacerlo. 5 Vierte lentamente la preparación anterior en el centro de nuestro rollo tapándolo tightly con cuidado de evitar derramarse demasiado pues estará extremadamente líquido. Luego pon nuevamente en el molde donde tenemos nuestros rollitos y continúa preparando; llévalo a cocción lenta añadiendo solamente suficiente cantidad de agua caliente cada vez que veas que comienza a hervir. 6 Una vez haya reducido su tamaño completaremos nuestras salsas con la ayuda de un tenedor y serviremos inmediatamente acompañada de pan casero recién hecho. Truco: Puedes acompañar tus empanadillas rellenadas con crema de coco con cualquier guarnición favorita desde arroz bianco pasta ensalada verde etc...¡A comer!<unused88><eos>\n"
     ]
    },
    {
     "data": {
      "application/vnd.jupyter.widget-view+json": {
       "model_id": "cdbeaf8ec75f4742bee4ec7d9d6724a5",
       "version_major": 2,
       "version_minor": 0
      },
      "text/plain": [
       "Batches:   0%|          | 0/1 [00:00<?, ?it/s]"
      ]
     },
     "metadata": {},
     "output_type": "display_data"
    },
    {
     "name": "stderr",
     "output_type": "stream",
     "text": [
      "Contexto Eres un agente experto en nutrición y cocina. ASADURA 961.—ASADURA DE CORDERO (6 personas) 1 asadura de cordero entera (que son: los pulmones, el hígado y el corazón),   4 cucharadas soperas de aceite,   2 tomates 1 cucharada (de las de café) rasada de pimentón,   1 cucharada sopera de perejil picado, 1 pellizco de hierbas Pregunta: Dime los ingredientes y pasos de la receta Cordero asado\n",
      "<bos><start_of_turn>system\n",
      "Eres un agente experto en nutrición y cocina. ASADURA 961.—ASADURA DE CORDERO (6 personas) 1 asadura de cordero entera (que son: los pulmones, el hígado y el corazón),   4 cucharadas soperas de aceite,   2 tomates 1 cucharada (de las de café) rasada de pimentón,   1 cucharada sopera de perejil picado, 1 pellizco de hierbas<end_of_turn><start_of_turn>user\n",
      "Dime los ingredientes y pasos de la receta Cordero asado<end_of_turn><start_of_turn>model\n",
      "\n",
      "<bos><start_of_turn>system\n",
      "Eres un agente experto en nutrición y cocina. ASADURA 961.—ASADURA DE CORDERO (6 personas) 1 asadura de cordero entera (que son: los pulmones, el hígado y el corazón),   4 cucharadas soperas de aceite,   2 tomates 1 cucharada (de las de café) rasada de pimentón,   1 cucharada sopera de perejil picado, 1 pellizco de hierbas<end_of_turn><start_of_turn>user\n",
      "Dime los ingredientes y pasos de la receta Cordero asado<end_of_turn><start_of_turn>model\n",
      "Ingredientes para preparar este plato típico andaluz con Cordera es decir todo lo que se muestra aquí te puedes pedir a tu gusto o no depender del tiempo de preparación porque si tienes unaCordera entera como esta será suficiente para hacer esto entero plato pero también puede ser solo parte de ella así pues... 1½ litros agua caliente ½ litro vino blanco ¼ taza harina pan rallado sal pimienta negra al gusto laurel tomillo romero ají molido azúcar miel u otras delicias. 1/3 kg carne picada de cerdo 1 cebolla pequeña ajo pimiento tomate puerro pimientos morrones rodajas de limón hojas de albahaca fresca pasta de queso fresco salsa picante dulce. 10 unidades patatas cocidas trocitos de chorizo ahumado jamón york bacon etc.. Salteado huevo duro. 1 unidad calabaza cocinadita. 1 pizca orégano cúrcuma canela nuez moscada. 1 cucharadita de comino. 1 hoja laurel. 1 rama apio. 1 copa champiñones. 1 lata atún. 1 vaso leche crema. 1 chorro aceite oliva virgen extra. 1 mano mantequilla. 1 bote piña natural sin semillas pinones tostados. Piñas picadas. Piñatas espolvorditas. Piñoncillo pinolillo. Piñones. Piñones rellenos. Piñones secos. Piñones amarillos. Piñones verdes. Piñones tartamundos. Piñones maduros. Piñones crudos. Piñones tiernos. Piñones rojos. Piñones negros. Piñones dorados. Piñones frescos. Piñones congelados. Piñonespastillos. Piñones pequeños. Piñones grandes. Piñones oks. Piñones oks blancos. Piñones oks duros. Piñones oks finos. Piñones oks gorditos. Piñones oks limpios. Piñones oks ligeros. Piñones oks livianos. Piñones oks normales. Piñones oks paños. Piñones oks pochos. Piñones oks primos. Piñones oks rosas. Piñones oks especiales. Piñones oks suaves. Piñones oks tápigos. Piñones oks toscos. Piñones oks típicos. Piñones oks tradicionales. Piñones oks verticales. Piñones oks xistos. Piñones oks zafros. Piñones oks padanginos. Piñones oks padangós. Piñones oks padangus. Piñones oks padangus andes. Piñones oks padangus australis. Piñones oks padangus americanos. Piñones oks padangus argentinos. Piñones oks padangus australes. Piñones oks padangus bolivianos. Piñones oks padangus brasilianos. Piñones oks padangus californicos. Piñones oks padangus canadienses. Piñones oks padangus carolinianos. Piñones oks padangus chilesens. Piñones oks padangus columbianos. Piñones oks padangus colombianus. Piñones oks padangus corrientes. Piñones oks padangus croatianos. Piñones oks padangus daneses. Piñones oks padangus dominicanos. Piñones oks padangus ecuadorianos. Piñones oks padangus finlandeses. Piñones oks padangus frances. Piñones oks padangus germanos. Piñones oks padangus griegos. Piñones oks padangus haitiano-dominicano. Piñones oks padangus hondurenses. Piñones oks padangus irlandeses. Piñones oks padangus israelíes.\n"
     ]
    },
    {
     "data": {
      "application/vnd.jupyter.widget-view+json": {
       "model_id": "2c25dfb9f8d04c91b93a0050f11f6ad6",
       "version_major": 2,
       "version_minor": 0
      },
      "text/plain": [
       "Batches:   0%|          | 0/1 [00:00<?, ?it/s]"
      ]
     },
     "metadata": {},
     "output_type": "display_data"
    },
    {
     "name": "stderr",
     "output_type": "stream",
     "text": [
      "Contexto Eres un agente experto en nutrición y cocina. grandes y se fríen, lo primero, en el aceite de la paella, unos 10 minutos. Se retiran en un plato, se hace la paella como se ha indicado en la receta anterior, volviendo a poner el pollo cuando se incorporan las gambas; después se procede como acabamos de ver para todo lo demás. 185.—PAELLA CON TROPEZONES DE COCIDO (6 personas) 2 tazones de arroz de Calasparra (600 gr. más o menos), ¼ de gallina, (del cocido 1 vaso (de los de agua) no lleno de aceite, 1 cebolla Pregunta: Dime los ingredientes y pasos de la receta Paella\n",
      "<bos><start_of_turn>system\n",
      "Eres un agente experto en nutrición y cocina. grandes y se fríen, lo primero, en el aceite de la paella, unos 10 minutos. Se retiran en un plato, se hace la paella como se ha indicado en la receta anterior, volviendo a poner el pollo cuando se incorporan las gambas; después se procede como acabamos de ver para todo lo demás. 185.—PAELLA CON TROPEZONES DE COCIDO (6 personas) 2 tazones de arroz de Calasparra (600 gr. más o menos), ¼ de gallina, (del cocido 1 vaso (de los de agua) no lleno de aceite, 1 cebolla<end_of_turn><start_of_turn>user\n",
      "Dime los ingredientes y pasos de la receta Paella<end_of_turn><start_of_turn>model\n",
      "\n",
      "<bos><start_of_turn>system\n",
      "Eres un agente experto en nutrición y cocina. grandes y se fríen, lo primero, en el aceite de la paella, unos 10 minutos. Se retiran en un plato, se hace la paella como se ha indicado en la receta anterior, volviendo a poner el pollo cuando se incorporan las gambas; después se procede como acabamos de ver para todo lo demás. 185.—PAELLA CON TROPEZONES DE COCIDO (6 personas) 2 tazones de arroz de Calasparra (600 gr. más o menos), ¼ de gallina, (del cocido 1 vaso (de los de agua) no lleno de aceite, 1 cebolla<end_of_turn><start_of_turn>user\n",
      "Dime los ingredientes y pasos de la receta Paella<end_of_turn><start_of_turn>model\n",
      "Ingredientes: ½ unidad de Pollo entero sin cabeza ni hueso ½ Unidad de Gallina entera sin cáscara ni piel Agua caliente sal Aceite Pimentón dulce Tomate frito Ajo seco Pimienta negra Harinas Variedad de verduras al gusto (a su elección). Pasos: 1 Para empezar con esta deliciosa paellla es necesario preparar todos estos productos que son muy variados según sea quién prepara la paella así pues aquí tenemos una lista completa de ellos: El caldo del cocido La carne picada Las legumbres Las setas Alcachofas Espinacas acelgas etc... 2 Ahora vamos a cocinar todas estas cosas antes mencionadas excepto por unas cuantas espárragos verdes asados aparte. 3 Una vez cocinada toda la verdura le añadimos también las patatas troceadas peladas previamente. 4 Cuando estén listas agregamos otra especias si nos gusta pero sobretodo debemos echarle pimentón dulce ajo seco pimienta negra tomillo laurel romero ... ¡y ya está! 5 Es momento de agregar ahora mismo el resto de carnes picandolas bien pequeñas tal como vemos en imagen abajo. 6 Ahora podemos añadir el caldo hecho anteriormente junto a este último tomate frito picado finamente. También puedes hacer tu propio caldo siguiendo nuestra sencilla receta paso a paso de caldo casero. 7 Ya solo queda esperar hasta que hierva durante aproximadamente media hora luego apagamos el fuego y dejamos reposar tapado mientras hacemos nuestro famoso rebozado. 8 Y listo!!! Este rico producto valenciano estará perfecto acompañado de vino tinto aunque puede ser igualmente bueno acompañada de cerveza blanco claro. Si te animas a prepararlo tú mismo visita mi blog Sabor en Cristal donde encontrarás muchas recetas fáciles rápidas deliciosas e incluso algunas originales creadas especialmente para ti. Espero tus comentarios.�<eos>\n"
     ]
    },
    {
     "data": {
      "application/vnd.jupyter.widget-view+json": {
       "model_id": "f00c2fdafb944698ae310c24d43f3b93",
       "version_major": 2,
       "version_minor": 0
      },
      "text/plain": [
       "Batches:   0%|          | 0/1 [00:00<?, ?it/s]"
      ]
     },
     "metadata": {},
     "output_type": "display_data"
    },
    {
     "name": "stderr",
     "output_type": "stream",
     "text": [
      "Contexto Eres un agente experto en nutrición y cocina. picada con la carne,   125 gr. de miga de pan (del día anterior),   125 gr. de champiñones de París frescos,   2 pata grande de ternera en trozos, chamuscada y lavada, aromáticas (o un ramillete con laurel, tomillo, perejil y ajo),   1 vaso (de los de agua) no lleno de leche hirviendo, agua fría,   sal y pimienta negra molida. Se pone la miga de pan en remojo con la leche hirviendo, y mientras tanto se limpian y se lavan muy bien los champiñones; se secan con un trapo limpio y se pican bastante menudos. En una ensaladera se pone la carne Pregunta: Dime los ingredientes y pasos de la receta Guiso de carne\n",
      "<bos><start_of_turn>system\n",
      "Eres un agente experto en nutrición y cocina. picada con la carne,   125 gr. de miga de pan (del día anterior),   125 gr. de champiñones de París frescos,   2 pata grande de ternera en trozos, chamuscada y lavada, aromáticas (o un ramillete con laurel, tomillo, perejil y ajo),   1 vaso (de los de agua) no lleno de leche hirviendo, agua fría,   sal y pimienta negra molida. Se pone la miga de pan en remojo con la leche hirviendo, y mientras tanto se limpian y se lavan muy bien los champiñones; se secan con un trapo limpio y se pican bastante menudos. En una ensaladera se pone la carne<end_of_turn><start_of_turn>user\n",
      "Dime los ingredientes y pasos de la receta Guiso de carne<end_of_turn><start_of_turn>model\n",
      "\n",
      "<bos><start_of_turn>system\n",
      "Eres un agente experto en nutrición y cocina. picada con la carne,   125 gr. de miga de pan (del día anterior),   125 gr. de champiñones de París frescos,   2 pata grande de ternera en trozos, chamuscada y lavada, aromáticas (o un ramillete con laurel, tomillo, perejil y ajo),   1 vaso (de los de agua) no lleno de leche hirviendo, agua fría,   sal y pimienta negra molida. Se pone la miga de pan en remojo con la leche hirviendo, y mientras tanto se limpian y se lavan muy bien los champiñones; se secan con un trapo limpio y se pican bastante menudos. En una ensaladera se pone la carne<end_of_turn><start_of_turn>user\n",
      "Dime los ingredientes y pasos de la receta Guiso de carne<end_of_turn><start_of_turn>model\n",
      "Este guisado es perfecto para el invierno o cuando hace frío porque lo más cierto es que te quedará calentito hasta las cintas. Para ello primero debes preparar todos estos productos: 1 trozo de patatas cocida sin piel ni semillas si quieres dejarla entera pero sí cortada a rodajas gruesas. 1 cebolla pequeña pelada también cortadas al gusto como por ejemplo picadas finas tres dientes de ajo picado finamente sal gruesa pimienta blanca molida aceite de oliva virgen extra vino blanco caldo vegetal casero salsa bechamel casera... ¡todos son bienvenidos! 20 gramos de harina del trigo fresca desmenuzada espolvoreada sobre la base de cocción donde vas a hacer tu plato así puedes ver cómo va quedando cada vez mejor y todo listo para servirlo después. 1/4 litro de nata líquida pura u otro tipo de crema ligera. 1 chorro pequeño de aceite caliente. 1 paquete de pasta larga para sopa o cualquier otra forma de pasta que sea adecuada para este guiso. 1 bote de tomate frito natural fresco o congelado. 1 rama de romero entero. 1 hoja de albahaca seca aunque también le da mucho sabor esta opción puede ser fresca viva ya cortando justo antes de añadirle todas estas especias frescas secas etcétera... 1 cucharada sopera de pimentón dulce ahumado picante o normal. 1 cucharadita de nuez moscada kuhniya o canela molidos. 1 pizca de azafrán seco. 1 puñado de ajonjolí machacado o tostado. 1 taza de agua colda o templada. 1 huevo duro curado previamente cortado en dos partes iguales. 1 manojo de hojas verdes acelgas espinacas colas de caballo ... ¡todas ellas buenas opciones para acompañar nuestra preparación! 1 pimiento rojo hecho crudo o asado o ambos dependiendo de tus gustos personales. 1 lata de tomates secos cortados en cuadraditos pequeños. 1 diente de ajo picado fino. 1 limón medio partido su jugo. 1 pastilla de caldo concentrado. 1 botella de cerveza arroyo nuevo. 1 morrón verde maduro hecho crudo o asado o ambos según sus preferencias. 1 pabellón macho adulto o subadulto. 1 cabeza de cochinilla hembra adulta o sub-adultera. 3 ramas grandes de apio largo y ancho. 1 copa de cava o vino tinto. 1 ramito de hierbas provenzal flores rosas e incluso unos lomos de jamón serrano. 1 rama de hierba manzanita rosa o cualquiera que tenga color rosa claro. 1 ramo de roblestamas o tallos de rosemary. 1 rama de clavo negro. 1 rama de cardamomo. 1 rama de comino. 8 huevos duros crudos. 1½ tazas de arroz redondo. 1 bolsa de garbanzos hervido. 1 lámina de hojaldre. 1 barra de mantequilla. 1 pieza de queso parmesano rallado. 1 porción de empanada de manzana. 1 sobra de puré de papas. 6 cucharadas soperas de azúcar morena. 1 kilogramo de calabaza cruda o cocinada. 1 kilo de berenjena cruda o cocinada. 1 unidad de patata mediana o chica. 1 unidad de zanahoria medianía o chica. 1 unidad de brócoli mediano o chico. 1 unidad de\n"
     ]
    },
    {
     "data": {
      "application/vnd.jupyter.widget-view+json": {
       "model_id": "e8a1ce1b5c1b4b9c88de3a7a10bdc5ab",
       "version_major": 2,
       "version_minor": 0
      },
      "text/plain": [
       "Batches:   0%|          | 0/1 [00:00<?, ?it/s]"
      ]
     },
     "metadata": {},
     "output_type": "display_data"
    },
    {
     "name": "stderr",
     "output_type": "stream",
     "text": [
      "Contexto Eres un agente experto en nutrición y cocina. Compota de manzanas Queso Jueves Arroz al curry Alcachofas con vinagreta Pierna de cordero asada, con ensalada Criadillas empanadas, con arroz blanco Fruta Zumo de naranja Viernes Potaje de garbanzos con espinacas y bacalao Sopa fina de tapioca Tortilla de patatas Conchas de gambas Pregunta: Dime los ingredientes y pasos de la receta Potaje de garbanzos\n",
      "<bos><start_of_turn>system\n",
      "Eres un agente experto en nutrición y cocina. Compota de manzanas Queso Jueves Arroz al curry Alcachofas con vinagreta Pierna de cordero asada, con ensalada Criadillas empanadas, con arroz blanco Fruta Zumo de naranja Viernes Potaje de garbanzos con espinacas y bacalao Sopa fina de tapioca Tortilla de patatas Conchas de gambas<end_of_turn><start_of_turn>user\n",
      "Dime los ingredientes y pasos de la receta Potaje de garbanzos<end_of_turn><start_of_turn>model\n",
      "\n",
      "<bos><start_of_turn>system\n",
      "Eres un agente experto en nutrición y cocina. Compota de manzanas Queso Jueves Arroz al curry Alcachofas con vinagreta Pierna de cordero asada, con ensalada Criadillas empanadas, con arroz blanco Fruta Zumo de naranja Viernes Potaje de garbanzos con espinacas y bacalao Sopa fina de tapioca Tortilla de patatas Conchas de gambas<end_of_turn><start_of_turn>user\n",
      "Dime los ingredientes y pasos de la receta Potaje de garbanzos<end_of_turn><start_of_turn>model\n",
      "Ingredientes: 1 kilogramo de Garbanzos cocidos ½ unidad de Cebolla blanca ¼ taza o 30 mililitros de Aceite vegetal (opcional) 2 unidades de Tomate maduro picado sin semillas ni espinas Agua para cocinar sal Pimienta negra molida Pimiento rojo rallado Perejil fresco perejil seco Sal Gorda. Pasos: 1 Para empezar a preparar este potaje fácil primero debes lavar bien todos los granos del grano de garbanzo que hayas comprado previamente ya cocido. Luego haz una olla grande ponemos el aceite cuando esté caliente añadimos las cebollas picadas finamente pelamos y cortamos también porciones finas como si fuera lo mismo con cebolla pero más pequeña. Cuando veamos que está transparente agregamos los tomates cortados muy pequeños así podemos hacer nuestro propio puré casero. También puedes comprar tomate frito natural aunque no será tan bueno porque tiene preservatives. 2 Ahora vamos añadir agua hasta cubrir todo esto junto con todas estas verduras cocinando durante unos minutos aproximadamente luego añade sal pimienta negra molida pimentón picante pimiento verde rallados y finalmente cubrimos toda esta preparación con suficiente cantidad de agua. Si quieres darle sabor extra agrega unas cucharadas pequeñas de caldo concentrado de pollo o pescado. 3 A continuación coloca sobre ella otra capa de harina de trigo mezclada con sal y espolvoreamos encima nuestra verdura ¡y listo! Ya solo queda esperar mientras se va haciendo lentamente. Truco: Puedes agregar otras especias variadas según tus gustos personales. 4 Una vez transcurra ese tiempo verás cómo ha crecido mucho nuestras verduras dentro de esa sopa ligera hecho totalmente de vegetales naturales además podrás disfrutar de uno de esos platos saludables fáciles rápidos sencillos económicos prácticos... ¿Qué te parece? Así pues espero que disfrutes tanto como yo de estos guisos caseros llenos de sabores exquisitos perfectos para cualquier ocasión. Y recuerda siempre puedes escribirnos decirte qué opinan o compartir fotos de nuestros recetas reales hechas desde casa ¡aún mejor! :) Espero tu visita y buena suerte con ésta sencilla receta de potaje de garbanzos casera.Espero os guste y revisa mi blog La Cocina de Juani donde encontrarás muchas altre ideas nuevas.<unused63> hämti<eos>\n"
     ]
    },
    {
     "data": {
      "application/vnd.jupyter.widget-view+json": {
       "model_id": "756f4c15956d4b88873543770fd917c6",
       "version_major": 2,
       "version_minor": 0
      },
      "text/plain": [
       "Batches:   0%|          | 0/1 [00:00<?, ?it/s]"
      ]
     },
     "metadata": {},
     "output_type": "display_data"
    },
    {
     "name": "stderr",
     "output_type": "stream",
     "text": [
      "Contexto Eres un agente experto en nutrición y cocina. Perdices. Gambas. Repollo. Conejo de monte. Chirlas. Apio. Liebre. Langostinos. Nabos. Faisán. Langosta. Alcachofas. Becada. Bogavante. Calabaza. Codornices Carabineros. Berros. Aves acuáticas. Quisquillas. Jabalí. Almejas. Venado Mejillones. Angulas. Ostras. FEBRERO Pregunta: Dime los ingredientes y pasos de la receta Callos madrileños\n",
      "<bos><start_of_turn>system\n",
      "Eres un agente experto en nutrición y cocina. Perdices. Gambas. Repollo. Conejo de monte. Chirlas. Apio. Liebre. Langostinos. Nabos. Faisán. Langosta. Alcachofas. Becada. Bogavante. Calabaza. Codornices Carabineros. Berros. Aves acuáticas. Quisquillas. Jabalí. Almejas. Venado Mejillones. Angulas. Ostras. FEBRERO<end_of_turn><start_of_turn>user\n",
      "Dime los ingredientes y pasos de la receta Callos madrileños<end_of_turn><start_of_turn>model\n",
      "\n",
      "<bos><start_of_turn>system\n",
      "Eres un agente experto en nutrición y cocina. Perdices. Gambas. Repollo. Conejo de monte. Chirlas. Apio. Liebre. Langostinos. Nabos. Faisán. Langosta. Alcachofas. Becada. Bogavante. Calabaza. Codornices Carabineros. Berros. Aves acuáticas. Quisquillas. Jabalí. Almejas. Venado Mejillones. Angulas. Ostras. FEBRERO<end_of_turn><start_of_turn>user\n",
      "Dime los ingredientes y pasos de la receta Callos madrileños<end_of_turn><start_of_turn>model\n",
      "Los callos son una preparación tradicional española que consiste en cocer el corazón del cordero con varias verduras como alcachofa o acelga para formar caldo. La carne se puede servir a modo de sopa pero también es posible preparar las legumbres hervidas junto con unos trozos de conejo troceados por ejemplo. Y si te gusta este tipo de platos puedes probar otras recetas españolas tradicionales:Cochinillo asadoCocido MadrilenoAmatitanes cracas carabinersPisto manchegoPatatas bravasMarmitakoConchitas jugosasConchas negras monedillasOsornoEnsalada caprinovniñotas kasama guisantes cuajadasCucarenes en salsa de tomateOtras opciones interesantes pueden ser estas elaboraciones similares a las caltillas butchers (con pollo) o los callos ibéricos.Y no olvides visitar mi blog Los dulces secretos de Cuqui donde encontrarás muchas más ideas deliciosas... ¡buen provecho!�\"...\"callos\" significa \"corazon\". En realidad lo que se conoce hoy día como callo era entonces conocido como \"cocido\", ya que se hacía cociendo toda la pieza entera sin cortarla ni desmenuzarla. Así mismo, el término \"bocado\" viene dado precisamente porque antiguamente cuando se ponía sobre él alguna cosa le faltaba algo así como un bocado...\"<unused64> raccontando Pancho Villa<eos>\n"
     ]
    }
   ],
   "source": [
    "test1 = True\n",
    "if test1:\n",
    "    context = 'Eres un agente experto en nutrición y cocina. '\n",
    "    query = 'Dime los ingredientes y pasos de la receta '\n",
    "    recetas = [\"Tortilla de patatas española\", \"Ceviche\", \"Enchiladas\", \"Empanada de puerro y nata\", \"Cordero asado\", \"Paella\", \"Guiso de carne\", \"Potaje de garbanzos\", \"Callos madrileños\" ]\n",
    "    for receta in recetas:        \n",
    "        # retrieve context - most relevant (closests) chunks to the query vector (by default Langchain is using cosine distance metric)\n",
    "        enable_chroma = False\n",
    "        if enable_chroma:\n",
    "            docs = db_chroma.similarity_search_with_score(receta, k=1)\n",
    "        else:\n",
    "            docs = vectorstore.similarity_search_with_score(receta, k=1)            \n",
    "        contexto = docs[0][0].page_content \n",
    "        contexto = context + contexto.replace(\"\\n\", \" \")           \n",
    "        receta = query + receta\n",
    "        logger.info('Contexto '+str(contexto)+' Pregunta: '+str(receta))\n",
    "        mostrar_respuesta(receta, contexto, logger, model)"
   ]
  },
  {
   "cell_type": "code",
   "execution_count": 9,
   "id": "68184e40-228a-4ba2-9bc7-72c2e5737ef1",
   "metadata": {
    "tags": []
   },
   "outputs": [
    {
     "name": "stdout",
     "output_type": "stream",
     "text": [
      "End\n"
     ]
    }
   ],
   "source": [
    "print('End')"
   ]
  }
 ],
 "metadata": {
  "kernelspec": {
   "display_name": "Python 3 (ipykernel)",
   "language": "python",
   "name": "python3"
  },
  "language_info": {
   "codemirror_mode": {
    "name": "ipython",
    "version": 3
   },
   "file_extension": ".py",
   "mimetype": "text/x-python",
   "name": "python",
   "nbconvert_exporter": "python",
   "pygments_lexer": "ipython3",
   "version": "3.9.5"
  }
 },
 "nbformat": 4,
 "nbformat_minor": 5
}
